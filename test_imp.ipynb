{
 "cells": [
  {
   "cell_type": "code",
   "execution_count": 1,
   "metadata": {},
   "outputs": [],
   "source": [
    "#Import necessary libraries \n",
    "import pandas as pd\n",
    "from sklearn.impute import KNNImputer\n",
    "import numpy as np"
   ]
  },
  {
   "cell_type": "code",
   "execution_count": 2,
   "metadata": {},
   "outputs": [],
   "source": [
    "# Load dataset into Pandas DataFrame\n",
    "test_df = pd.read_csv('test_df.csv')"
   ]
  },
  {
   "cell_type": "code",
   "execution_count": 3,
   "metadata": {},
   "outputs": [
    {
     "name": "stdout",
     "output_type": "stream",
     "text": [
      "       Unnamed: 0     ...1  income.0.0  days_per_week_walk.0.0  diabetes..0.0  \\\n",
      "0               1  1000021         3.0                       0              0   \n",
      "1               2  1000057         4.0                       7              0   \n",
      "2               3  1000082         2.0                       7              0   \n",
      "3               4  1000126         4.0                       7              0   \n",
      "4               5  1000325         5.0                       7              0   \n",
      "...           ...      ...         ...                     ...            ...   \n",
      "53182       53183  6024672         2.0                       2              0   \n",
      "53183       53184  6024732         1.0                       6              0   \n",
      "53184       53185  6024803         1.0                      -1              0   \n",
      "53185       53186  6024842        -1.0                       3              0   \n",
      "53186       53187  6024923         NaN                       7              0   \n",
      "\n",
      "       smoke_status.0.0  bmi.0.0  Age_recr.0.0  total_cholesterol.0.0  \\\n",
      "0                     1  29.5254          62.0                    NaN   \n",
      "1                     1  27.6852          65.0                    NaN   \n",
      "2                     0  21.9651          51.0                    NaN   \n",
      "3                     1  29.4204          47.0                    NaN   \n",
      "4                     2  22.8234          54.0                    NaN   \n",
      "...                 ...      ...           ...                    ...   \n",
      "53182                 0  31.6564          41.0                 4.3624   \n",
      "53183                 1  20.5241          62.0                 4.1621   \n",
      "53184                 1  39.9202          65.0                    NaN   \n",
      "53185                 0  23.9069          64.0                 4.5286   \n",
      "53186                 1      NaN           NaN                    NaN   \n",
      "\n",
      "       vldl_cholesterol.0.0  ...  c_reactive_protein.0.0  HbA1c.0.0  \\\n",
      "0                       NaN  ...                   10.26       31.9   \n",
      "1                       NaN  ...                    1.36       33.7   \n",
      "2                       NaN  ...                    1.29        NaN   \n",
      "3                       NaN  ...                    1.35       34.6   \n",
      "4                       NaN  ...                    0.66       34.7   \n",
      "...                     ...  ...                     ...        ...   \n",
      "53182               0.68084  ...                    1.56       30.6   \n",
      "53183               0.68544  ...                    1.52       34.4   \n",
      "53184                   NaN  ...                    1.53       36.0   \n",
      "53185               1.01370  ...                    2.75        NaN   \n",
      "53186                   NaN  ...                     NaN        NaN   \n",
      "\n",
      "       insulin_IGF_1.0.0  lipoprotein.0.0  phosphate.0.0  SHBG.0.0  \\\n",
      "0                 19.320            29.60          1.051     58.09   \n",
      "1                 21.199             5.20          1.276     31.64   \n",
      "2                 22.495            14.00          1.192     45.49   \n",
      "3                 23.939           127.80          0.894     29.29   \n",
      "4                 20.172             8.92          1.194     74.53   \n",
      "...                  ...              ...            ...       ...   \n",
      "53182             28.218           162.60          1.234     32.01   \n",
      "53183             28.499            46.80          1.185     51.56   \n",
      "53184             19.050            43.20          1.030     53.27   \n",
      "53185             27.754            35.10          1.419       NaN   \n",
      "53186                NaN              NaN            NaN       NaN   \n",
      "\n",
      "       total_bilirubin.0.0  testosterone.0.0  triglycerides.0.0  \\\n",
      "0                    12.87            13.897              2.385   \n",
      "1                    15.70            13.759              5.016   \n",
      "2                     6.87            22.116              1.311   \n",
      "3                    14.37            12.327              0.742   \n",
      "4                     5.73            17.579              1.254   \n",
      "...                    ...               ...                ...   \n",
      "53182                 9.02            10.964              1.050   \n",
      "53183                 4.09            10.314              1.394   \n",
      "53184                 6.29            19.647              0.941   \n",
      "53185                15.39            12.595              5.278   \n",
      "53186                  NaN               NaN                NaN   \n",
      "\n",
      "       alcohol_consumption.0.0  \n",
      "0                          NaN  \n",
      "1                          NaN  \n",
      "2                          0.0  \n",
      "3                          NaN  \n",
      "4                          1.0  \n",
      "...                        ...  \n",
      "53182                      NaN  \n",
      "53183                      NaN  \n",
      "53184                      NaN  \n",
      "53185                      NaN  \n",
      "53186                      NaN  \n",
      "\n",
      "[53187 rows x 23 columns]\n"
     ]
    }
   ],
   "source": [
    "print(test_df)"
   ]
  },
  {
   "cell_type": "code",
   "execution_count": 4,
   "metadata": {},
   "outputs": [],
   "source": [
    "test_df = test_df.rename(columns={'...1': 'eid'})"
   ]
  },
  {
   "cell_type": "code",
   "execution_count": 5,
   "metadata": {},
   "outputs": [
    {
     "data": {
      "text/plain": [
       "53187"
      ]
     },
     "execution_count": 5,
     "metadata": {},
     "output_type": "execute_result"
    }
   ],
   "source": [
    "# Get the length of the eid column\n",
    "len(test_df['eid'])"
   ]
  },
  {
   "cell_type": "code",
   "execution_count": 6,
   "metadata": {},
   "outputs": [
    {
     "data": {
      "text/plain": [
       "53187"
      ]
     },
     "execution_count": 6,
     "metadata": {},
     "output_type": "execute_result"
    }
   ],
   "source": [
    "# Get the number of unique values in the eid column\n",
    "len(test_df['eid'].unique())"
   ]
  },
  {
   "cell_type": "code",
   "execution_count": 7,
   "metadata": {},
   "outputs": [
    {
     "name": "stdout",
     "output_type": "stream",
     "text": [
      "At least one column has values less than 0\n"
     ]
    }
   ],
   "source": [
    "# Check if any columns have values less than 0\n",
    "if (test_df < 0).any().any():\n",
    "    print('At least one column has values less than 0')\n",
    "else:\n",
    "    print('No columns have values less than 0')"
   ]
  },
  {
   "cell_type": "code",
   "execution_count": 9,
   "metadata": {},
   "outputs": [
    {
     "name": "stdout",
     "output_type": "stream",
     "text": [
      "Columns with negative values: ['income.0.0', 'days_per_week_walk.0.0', 'smoke_status.0.0']\n"
     ]
    }
   ],
   "source": [
    "# Check which columns have values less than 0\n",
    "cols_with_negative_values = test_df.columns[(test_df < 0).any()]\n",
    "\n",
    "# Print the column names\n",
    "print('Columns with negative values:', list(cols_with_negative_values))"
   ]
  },
  {
   "cell_type": "code",
   "execution_count": 11,
   "metadata": {},
   "outputs": [
    {
     "name": "stderr",
     "output_type": "stream",
     "text": [
      "/var/tmp/pbs.7385817.pbs/ipykernel_828593/2138215030.py:1: SettingWithCopyWarning: \n",
      "A value is trying to be set on a copy of a slice from a DataFrame\n",
      "\n",
      "See the caveats in the documentation: https://pandas.pydata.org/pandas-docs/stable/user_guide/indexing.html#returning-a-view-versus-a-copy\n",
      "  test_df['income.0.0'][test_df['income.0.0'] < 0] = np.nan\n",
      "/var/tmp/pbs.7385817.pbs/ipykernel_828593/2138215030.py:2: SettingWithCopyWarning: \n",
      "A value is trying to be set on a copy of a slice from a DataFrame\n",
      "\n",
      "See the caveats in the documentation: https://pandas.pydata.org/pandas-docs/stable/user_guide/indexing.html#returning-a-view-versus-a-copy\n",
      "  test_df['days_per_week_walk.0.0'][test_df['days_per_week_walk.0.0'] < 0] = np.nan\n",
      "/var/tmp/pbs.7385817.pbs/ipykernel_828593/2138215030.py:3: SettingWithCopyWarning: \n",
      "A value is trying to be set on a copy of a slice from a DataFrame\n",
      "\n",
      "See the caveats in the documentation: https://pandas.pydata.org/pandas-docs/stable/user_guide/indexing.html#returning-a-view-versus-a-copy\n",
      "  test_df['smoke_status.0.0'][test_df['smoke_status.0.0'] < 0] = np.nan\n"
     ]
    }
   ],
   "source": [
    "test_df['income.0.0'][test_df['income.0.0'] < 0] = np.nan\n",
    "test_df['days_per_week_walk.0.0'][test_df['days_per_week_walk.0.0'] < 0] = np.nan\n",
    "test_df['smoke_status.0.0'][test_df['smoke_status.0.0'] < 0] = np.nan"
   ]
  },
  {
   "cell_type": "code",
   "execution_count": 12,
   "metadata": {},
   "outputs": [
    {
     "name": "stdout",
     "output_type": "stream",
     "text": [
      "Index(['Unnamed: 0', 'eid', 'income.0.0', 'days_per_week_walk.0.0',\n",
      "       'diabetes..0.0', 'smoke_status.0.0', 'bmi.0.0', 'Age_recr.0.0',\n",
      "       'total_cholesterol.0.0', 'vldl_cholesterol.0.0', 'ldl_cholesterol.0.0',\n",
      "       'hdl_cholesterol.0.0', 'glucose.0.0', 'c_reactive_protein.0.0',\n",
      "       'HbA1c.0.0', 'insulin_IGF_1.0.0', 'lipoprotein.0.0', 'phosphate.0.0',\n",
      "       'SHBG.0.0', 'total_bilirubin.0.0', 'testosterone.0.0',\n",
      "       'triglycerides.0.0', 'alcohol_consumption.0.0'],\n",
      "      dtype='object')\n"
     ]
    }
   ],
   "source": [
    "# get all the column names \n",
    "col_names = test_df.columns\n",
    "\n",
    "print(col_names)"
   ]
  },
  {
   "cell_type": "code",
   "execution_count": 13,
   "metadata": {},
   "outputs": [],
   "source": [
    "subset_test_df = test_df[[ 'income.0.0', 'days_per_week_walk.0.0',\n",
    "       'diabetes..0.0', 'smoke_status.0.0', 'bmi.0.0', 'Age_recr.0.0',\n",
    "       'total_cholesterol.0.0', 'vldl_cholesterol.0.0', 'ldl_cholesterol.0.0',\n",
    "       'hdl_cholesterol.0.0', 'glucose.0.0', 'c_reactive_protein.0.0',\n",
    "       'HbA1c.0.0', 'insulin_IGF_1.0.0', 'lipoprotein.0.0', 'phosphate.0.0',\n",
    "       'SHBG.0.0', 'total_bilirubin.0.0', 'testosterone.0.0',\n",
    "       'triglycerides.0.0', 'alcohol_consumption.0.0']]"
   ]
  },
  {
   "cell_type": "code",
   "execution_count": 14,
   "metadata": {},
   "outputs": [
    {
     "name": "stdout",
     "output_type": "stream",
     "text": [
      "       income.0.0  days_per_week_walk.0.0  diabetes..0.0  smoke_status.0.0  \\\n",
      "0             3.0                     0.0              0               1.0   \n",
      "1             4.0                     7.0              0               1.0   \n",
      "2             2.0                     7.0              0               0.0   \n",
      "3             4.0                     7.0              0               1.0   \n",
      "4             5.0                     7.0              0               2.0   \n",
      "...           ...                     ...            ...               ...   \n",
      "53182         2.0                     2.0              0               0.0   \n",
      "53183         1.0                     6.0              0               1.0   \n",
      "53184         1.0                     NaN              0               1.0   \n",
      "53185         NaN                     3.0              0               0.0   \n",
      "53186         NaN                     7.0              0               1.0   \n",
      "\n",
      "       bmi.0.0  Age_recr.0.0  total_cholesterol.0.0  vldl_cholesterol.0.0  \\\n",
      "0      29.5254          62.0                    NaN                   NaN   \n",
      "1      27.6852          65.0                    NaN                   NaN   \n",
      "2      21.9651          51.0                    NaN                   NaN   \n",
      "3      29.4204          47.0                    NaN                   NaN   \n",
      "4      22.8234          54.0                    NaN                   NaN   \n",
      "...        ...           ...                    ...                   ...   \n",
      "53182  31.6564          41.0                 4.3624               0.68084   \n",
      "53183  20.5241          62.0                 4.1621               0.68544   \n",
      "53184  39.9202          65.0                    NaN                   NaN   \n",
      "53185  23.9069          64.0                 4.5286               1.01370   \n",
      "53186      NaN           NaN                    NaN                   NaN   \n",
      "\n",
      "       ldl_cholesterol.0.0  hdl_cholesterol.0.0  ...  c_reactive_protein.0.0  \\\n",
      "0                      NaN                  NaN  ...                   10.26   \n",
      "1                      NaN                  NaN  ...                    1.36   \n",
      "2                      NaN                  NaN  ...                    1.29   \n",
      "3                      NaN                  NaN  ...                    1.35   \n",
      "4                      NaN                  NaN  ...                    0.66   \n",
      "...                    ...                  ...  ...                     ...   \n",
      "53182               1.7162               1.1090  ...                    1.56   \n",
      "53183               1.4923               1.2189  ...                    1.52   \n",
      "53184                  NaN                  NaN  ...                    1.53   \n",
      "53185               1.7023               1.2259  ...                    2.75   \n",
      "53186                  NaN                  NaN  ...                     NaN   \n",
      "\n",
      "       HbA1c.0.0  insulin_IGF_1.0.0  lipoprotein.0.0  phosphate.0.0  SHBG.0.0  \\\n",
      "0           31.9             19.320            29.60          1.051     58.09   \n",
      "1           33.7             21.199             5.20          1.276     31.64   \n",
      "2            NaN             22.495            14.00          1.192     45.49   \n",
      "3           34.6             23.939           127.80          0.894     29.29   \n",
      "4           34.7             20.172             8.92          1.194     74.53   \n",
      "...          ...                ...              ...            ...       ...   \n",
      "53182       30.6             28.218           162.60          1.234     32.01   \n",
      "53183       34.4             28.499            46.80          1.185     51.56   \n",
      "53184       36.0             19.050            43.20          1.030     53.27   \n",
      "53185        NaN             27.754            35.10          1.419       NaN   \n",
      "53186        NaN                NaN              NaN            NaN       NaN   \n",
      "\n",
      "       total_bilirubin.0.0  testosterone.0.0  triglycerides.0.0  \\\n",
      "0                    12.87            13.897              2.385   \n",
      "1                    15.70            13.759              5.016   \n",
      "2                     6.87            22.116              1.311   \n",
      "3                    14.37            12.327              0.742   \n",
      "4                     5.73            17.579              1.254   \n",
      "...                    ...               ...                ...   \n",
      "53182                 9.02            10.964              1.050   \n",
      "53183                 4.09            10.314              1.394   \n",
      "53184                 6.29            19.647              0.941   \n",
      "53185                15.39            12.595              5.278   \n",
      "53186                  NaN               NaN                NaN   \n",
      "\n",
      "       alcohol_consumption.0.0  \n",
      "0                          NaN  \n",
      "1                          NaN  \n",
      "2                          0.0  \n",
      "3                          NaN  \n",
      "4                          1.0  \n",
      "...                        ...  \n",
      "53182                      NaN  \n",
      "53183                      NaN  \n",
      "53184                      NaN  \n",
      "53185                      NaN  \n",
      "53186                      NaN  \n",
      "\n",
      "[53187 rows x 21 columns]\n"
     ]
    }
   ],
   "source": [
    "print(subset_test_df)"
   ]
  },
  {
   "cell_type": "code",
   "execution_count": 15,
   "metadata": {},
   "outputs": [],
   "source": [
    "# Initialize KNNImputer object with desired arguments\n",
    "imputer = KNNImputer(n_neighbors=5)\n",
    "\n",
    "# Impute missing values\n",
    "imputed_data = imputer.fit_transform(subset_test_df)"
   ]
  },
  {
   "cell_type": "code",
   "execution_count": 16,
   "metadata": {},
   "outputs": [],
   "source": [
    "imputed_df=pd.DataFrame(imputed_data, columns = subset_test_df.columns)"
   ]
  },
  {
   "cell_type": "code",
   "execution_count": 17,
   "metadata": {},
   "outputs": [
    {
     "name": "stdout",
     "output_type": "stream",
     "text": [
      "       income.0.0  days_per_week_walk.0.0  diabetes..0.0  smoke_status.0.0  \\\n",
      "0             3.0                     0.0            0.0               1.0   \n",
      "1             4.0                     7.0            0.0               1.0   \n",
      "2             2.0                     7.0            0.0               0.0   \n",
      "3             4.0                     7.0            0.0               1.0   \n",
      "4             5.0                     7.0            0.0               2.0   \n",
      "...           ...                     ...            ...               ...   \n",
      "53182         2.0                     2.0            0.0               0.0   \n",
      "53183         1.0                     6.0            0.0               1.0   \n",
      "53184         1.0                     5.2            0.0               1.0   \n",
      "53185         2.8                     3.0            0.0               0.0   \n",
      "53186         2.0                     7.0            0.0               1.0   \n",
      "\n",
      "        bmi.0.0  Age_recr.0.0  total_cholesterol.0.0  vldl_cholesterol.0.0  \\\n",
      "0      29.52540          62.0                3.90882              0.708758   \n",
      "1      27.68520          65.0                4.15918              0.644548   \n",
      "2      21.96510          51.0                3.94656              0.521414   \n",
      "3      29.42040          47.0                4.51794              0.629690   \n",
      "4      22.82340          54.0                4.65322              0.686082   \n",
      "...         ...           ...                    ...                   ...   \n",
      "53182  31.65640          41.0                4.36240              0.680840   \n",
      "53183  20.52410          62.0                4.16210              0.685440   \n",
      "53184  39.92020          65.0                3.18478              0.487370   \n",
      "53185  23.90690          64.0                4.52860              1.013700   \n",
      "53186  26.29902          61.2                4.73952              0.757808   \n",
      "\n",
      "       ldl_cholesterol.0.0  hdl_cholesterol.0.0  ...  c_reactive_protein.0.0  \\\n",
      "0                 1.559960             0.964934  ...                  10.260   \n",
      "1                 1.455020             1.301716  ...                   1.360   \n",
      "2                 1.409496             1.324960  ...                   1.290   \n",
      "3                 1.769240             1.312828  ...                   1.350   \n",
      "4                 1.778340             1.352960  ...                   0.660   \n",
      "...                    ...                  ...  ...                     ...   \n",
      "53182             1.716200             1.109000  ...                   1.560   \n",
      "53183             1.492300             1.218900  ...                   1.520   \n",
      "53184             1.057466             1.129920  ...                   1.530   \n",
      "53185             1.702300             1.225900  ...                   2.750   \n",
      "53186             1.796420             1.296876  ...                   1.524   \n",
      "\n",
      "       HbA1c.0.0  insulin_IGF_1.0.0  lipoprotein.0.0  phosphate.0.0  SHBG.0.0  \\\n",
      "0          31.90            19.3200           29.600         1.0510    58.090   \n",
      "1          33.70            21.1990            5.200         1.2760    31.640   \n",
      "2          32.94            22.4950           14.000         1.1920    45.490   \n",
      "3          34.60            23.9390          127.800         0.8940    29.290   \n",
      "4          34.70            20.1720            8.920         1.1940    74.530   \n",
      "...          ...                ...              ...            ...       ...   \n",
      "53182      30.60            28.2180          162.600         1.2340    32.010   \n",
      "53183      34.40            28.4990           46.800         1.1850    51.560   \n",
      "53184      36.00            19.0500           43.200         1.0300    53.270   \n",
      "53185      34.72            27.7540           35.100         1.4190    36.314   \n",
      "53186      38.10            21.0204           34.848         1.1206    52.544   \n",
      "\n",
      "       total_bilirubin.0.0  testosterone.0.0  triglycerides.0.0  \\\n",
      "0                   12.870           13.8970              2.385   \n",
      "1                   15.700           13.7590              5.016   \n",
      "2                    6.870           22.1160              1.311   \n",
      "3                   14.370           12.3270              0.742   \n",
      "4                    5.730           17.5790              1.254   \n",
      "...                    ...               ...                ...   \n",
      "53182                9.020           10.9640              1.050   \n",
      "53183                4.090           10.3140              1.394   \n",
      "53184                6.290           19.6470              0.941   \n",
      "53185               15.390           12.5950              5.278   \n",
      "53186                9.564           10.7628              2.274   \n",
      "\n",
      "       alcohol_consumption.0.0  \n",
      "0                          0.2  \n",
      "1                          0.8  \n",
      "2                          0.0  \n",
      "3                          0.2  \n",
      "4                          1.0  \n",
      "...                        ...  \n",
      "53182                      0.4  \n",
      "53183                      0.6  \n",
      "53184                      0.6  \n",
      "53185                      1.0  \n",
      "53186                      0.6  \n",
      "\n",
      "[53187 rows x 21 columns]\n"
     ]
    }
   ],
   "source": [
    "print(imputed_df)"
   ]
  },
  {
   "cell_type": "code",
   "execution_count": 18,
   "metadata": {},
   "outputs": [
    {
     "name": "stdout",
     "output_type": "stream",
     "text": [
      "income.0.0                 0\n",
      "days_per_week_walk.0.0     0\n",
      "diabetes..0.0              0\n",
      "smoke_status.0.0           0\n",
      "bmi.0.0                    0\n",
      "Age_recr.0.0               0\n",
      "total_cholesterol.0.0      0\n",
      "vldl_cholesterol.0.0       0\n",
      "ldl_cholesterol.0.0        0\n",
      "hdl_cholesterol.0.0        0\n",
      "glucose.0.0                0\n",
      "c_reactive_protein.0.0     0\n",
      "HbA1c.0.0                  0\n",
      "insulin_IGF_1.0.0          0\n",
      "lipoprotein.0.0            0\n",
      "phosphate.0.0              0\n",
      "SHBG.0.0                   0\n",
      "total_bilirubin.0.0        0\n",
      "testosterone.0.0           0\n",
      "triglycerides.0.0          0\n",
      "alcohol_consumption.0.0    0\n",
      "dtype: int64\n"
     ]
    }
   ],
   "source": [
    "# Check for missing values in imputed_df\n",
    "print(imputed_df.isna().sum())"
   ]
  },
  {
   "cell_type": "code",
   "execution_count": 19,
   "metadata": {},
   "outputs": [],
   "source": [
    "imputed_df.to_csv('imputed_test_data.csv', index= True)"
   ]
  },
  {
   "cell_type": "code",
   "execution_count": 20,
   "metadata": {},
   "outputs": [
    {
     "data": {
      "text/plain": [
       "(53187, 23)"
      ]
     },
     "execution_count": 20,
     "metadata": {},
     "output_type": "execute_result"
    }
   ],
   "source": [
    "test_df.shape"
   ]
  },
  {
   "cell_type": "code",
   "execution_count": 21,
   "metadata": {},
   "outputs": [
    {
     "data": {
      "text/plain": [
       "(53187, 21)"
      ]
     },
     "execution_count": 21,
     "metadata": {},
     "output_type": "execute_result"
    }
   ],
   "source": [
    "imputed_df.shape"
   ]
  },
  {
   "cell_type": "code",
   "execution_count": 22,
   "metadata": {},
   "outputs": [],
   "source": [
    "# Create a new column 'Unnamed: 0' with a sequence of integers starting from 1\n",
    "imputed_df['Unnamed: 0'] = range(1, len(imputed_df) + 1)"
   ]
  },
  {
   "cell_type": "code",
   "execution_count": 23,
   "metadata": {},
   "outputs": [],
   "source": [
    "for_merge_test_df = test_df[['Unnamed: 0', 'eid', 'diabetes..0.0']]"
   ]
  },
  {
   "cell_type": "code",
   "execution_count": 24,
   "metadata": {},
   "outputs": [],
   "source": [
    "test_imputed_df = pd.merge(imputed_df, \n",
    "                            for_merge_test_df, on='Unnamed: 0', how='inner')"
   ]
  },
  {
   "cell_type": "code",
   "execution_count": 25,
   "metadata": {},
   "outputs": [
    {
     "name": "stdout",
     "output_type": "stream",
     "text": [
      "       income.0.0  days_per_week_walk.0.0  diabetes..0.0_x  smoke_status.0.0  \\\n",
      "0             3.0                     0.0              0.0               1.0   \n",
      "1             4.0                     7.0              0.0               1.0   \n",
      "2             2.0                     7.0              0.0               0.0   \n",
      "3             4.0                     7.0              0.0               1.0   \n",
      "4             5.0                     7.0              0.0               2.0   \n",
      "...           ...                     ...              ...               ...   \n",
      "53182         2.0                     2.0              0.0               0.0   \n",
      "53183         1.0                     6.0              0.0               1.0   \n",
      "53184         1.0                     5.2              0.0               1.0   \n",
      "53185         2.8                     3.0              0.0               0.0   \n",
      "53186         2.0                     7.0              0.0               1.0   \n",
      "\n",
      "        bmi.0.0  Age_recr.0.0  total_cholesterol.0.0  vldl_cholesterol.0.0  \\\n",
      "0      29.52540          62.0                3.90882              0.708758   \n",
      "1      27.68520          65.0                4.15918              0.644548   \n",
      "2      21.96510          51.0                3.94656              0.521414   \n",
      "3      29.42040          47.0                4.51794              0.629690   \n",
      "4      22.82340          54.0                4.65322              0.686082   \n",
      "...         ...           ...                    ...                   ...   \n",
      "53182  31.65640          41.0                4.36240              0.680840   \n",
      "53183  20.52410          62.0                4.16210              0.685440   \n",
      "53184  39.92020          65.0                3.18478              0.487370   \n",
      "53185  23.90690          64.0                4.52860              1.013700   \n",
      "53186  26.29902          61.2                4.73952              0.757808   \n",
      "\n",
      "       ldl_cholesterol.0.0  hdl_cholesterol.0.0  ...  lipoprotein.0.0  \\\n",
      "0                 1.559960             0.964934  ...           29.600   \n",
      "1                 1.455020             1.301716  ...            5.200   \n",
      "2                 1.409496             1.324960  ...           14.000   \n",
      "3                 1.769240             1.312828  ...          127.800   \n",
      "4                 1.778340             1.352960  ...            8.920   \n",
      "...                    ...                  ...  ...              ...   \n",
      "53182             1.716200             1.109000  ...          162.600   \n",
      "53183             1.492300             1.218900  ...           46.800   \n",
      "53184             1.057466             1.129920  ...           43.200   \n",
      "53185             1.702300             1.225900  ...           35.100   \n",
      "53186             1.796420             1.296876  ...           34.848   \n",
      "\n",
      "       phosphate.0.0  SHBG.0.0  total_bilirubin.0.0  testosterone.0.0  \\\n",
      "0             1.0510    58.090               12.870           13.8970   \n",
      "1             1.2760    31.640               15.700           13.7590   \n",
      "2             1.1920    45.490                6.870           22.1160   \n",
      "3             0.8940    29.290               14.370           12.3270   \n",
      "4             1.1940    74.530                5.730           17.5790   \n",
      "...              ...       ...                  ...               ...   \n",
      "53182         1.2340    32.010                9.020           10.9640   \n",
      "53183         1.1850    51.560                4.090           10.3140   \n",
      "53184         1.0300    53.270                6.290           19.6470   \n",
      "53185         1.4190    36.314               15.390           12.5950   \n",
      "53186         1.1206    52.544                9.564           10.7628   \n",
      "\n",
      "       triglycerides.0.0  alcohol_consumption.0.0  Unnamed: 0      eid  \\\n",
      "0                  2.385                      0.2           1  1000021   \n",
      "1                  5.016                      0.8           2  1000057   \n",
      "2                  1.311                      0.0           3  1000082   \n",
      "3                  0.742                      0.2           4  1000126   \n",
      "4                  1.254                      1.0           5  1000325   \n",
      "...                  ...                      ...         ...      ...   \n",
      "53182              1.050                      0.4       53183  6024672   \n",
      "53183              1.394                      0.6       53184  6024732   \n",
      "53184              0.941                      0.6       53185  6024803   \n",
      "53185              5.278                      1.0       53186  6024842   \n",
      "53186              2.274                      0.6       53187  6024923   \n",
      "\n",
      "       diabetes..0.0_y  \n",
      "0                    0  \n",
      "1                    0  \n",
      "2                    0  \n",
      "3                    0  \n",
      "4                    0  \n",
      "...                ...  \n",
      "53182                0  \n",
      "53183                0  \n",
      "53184                0  \n",
      "53185                0  \n",
      "53186                0  \n",
      "\n",
      "[53187 rows x 24 columns]\n"
     ]
    }
   ],
   "source": [
    "print(test_imputed_df)"
   ]
  },
  {
   "cell_type": "code",
   "execution_count": 26,
   "metadata": {},
   "outputs": [
    {
     "name": "stdout",
     "output_type": "stream",
     "text": [
      "       income.0.0  days_per_week_walk.0.0  diabetes..0.0_x  smoke_status.0.0  \\\n",
      "0               3                       0                0                 1   \n",
      "1               4                       7                0                 1   \n",
      "2               2                       7                0                 0   \n",
      "3               4                       7                0                 1   \n",
      "4               5                       7                0                 2   \n",
      "...           ...                     ...              ...               ...   \n",
      "53182           2                       2                0                 0   \n",
      "53183           1                       6                0                 1   \n",
      "53184           1                       5                0                 1   \n",
      "53185           3                       3                0                 0   \n",
      "53186           2                       7                0                 1   \n",
      "\n",
      "       bmi.0.0  Age_recr.0.0  total_cholesterol.0.0  vldl_cholesterol.0.0  \\\n",
      "0           30            62                      4                     1   \n",
      "1           28            65                      4                     1   \n",
      "2           22            51                      4                     1   \n",
      "3           29            47                      5                     1   \n",
      "4           23            54                      5                     1   \n",
      "...        ...           ...                    ...                   ...   \n",
      "53182       32            41                      4                     1   \n",
      "53183       21            62                      4                     1   \n",
      "53184       40            65                      3                     0   \n",
      "53185       24            64                      5                     1   \n",
      "53186       26            61                      5                     1   \n",
      "\n",
      "       ldl_cholesterol.0.0  hdl_cholesterol.0.0  ...  lipoprotein.0.0  \\\n",
      "0                        2                    1  ...               30   \n",
      "1                        1                    1  ...                5   \n",
      "2                        1                    1  ...               14   \n",
      "3                        2                    1  ...              128   \n",
      "4                        2                    1  ...                9   \n",
      "...                    ...                  ...  ...              ...   \n",
      "53182                    2                    1  ...              163   \n",
      "53183                    1                    1  ...               47   \n",
      "53184                    1                    1  ...               43   \n",
      "53185                    2                    1  ...               35   \n",
      "53186                    2                    1  ...               35   \n",
      "\n",
      "       phosphate.0.0  SHBG.0.0  total_bilirubin.0.0  testosterone.0.0  \\\n",
      "0                  1        58                   13                14   \n",
      "1                  1        32                   16                14   \n",
      "2                  1        45                    7                22   \n",
      "3                  1        29                   14                12   \n",
      "4                  1        75                    6                18   \n",
      "...              ...       ...                  ...               ...   \n",
      "53182              1        32                    9                11   \n",
      "53183              1        52                    4                10   \n",
      "53184              1        53                    6                20   \n",
      "53185              1        36                   15                13   \n",
      "53186              1        53                   10                11   \n",
      "\n",
      "       triglycerides.0.0  alcohol_consumption.0.0  Unnamed: 0      eid  \\\n",
      "0                      2                        0           1  1000021   \n",
      "1                      5                        1           2  1000057   \n",
      "2                      1                        0           3  1000082   \n",
      "3                      1                        0           4  1000126   \n",
      "4                      1                        1           5  1000325   \n",
      "...                  ...                      ...         ...      ...   \n",
      "53182                  1                        0       53183  6024672   \n",
      "53183                  1                        1       53184  6024732   \n",
      "53184                  1                        1       53185  6024803   \n",
      "53185                  5                        1       53186  6024842   \n",
      "53186                  2                        1       53187  6024923   \n",
      "\n",
      "       diabetes..0.0_y  \n",
      "0                    0  \n",
      "1                    0  \n",
      "2                    0  \n",
      "3                    0  \n",
      "4                    0  \n",
      "...                ...  \n",
      "53182                0  \n",
      "53183                0  \n",
      "53184                0  \n",
      "53185                0  \n",
      "53186                0  \n",
      "\n",
      "[53187 rows x 24 columns]\n"
     ]
    }
   ],
   "source": [
    "test_imputed_df = test_imputed_df.round(decimals=0).astype(int)\n",
    "\n",
    "# Display the updated DataFrame\n",
    "print(test_imputed_df)"
   ]
  },
  {
   "cell_type": "code",
   "execution_count": 27,
   "metadata": {},
   "outputs": [
    {
     "name": "stdout",
     "output_type": "stream",
     "text": [
      "0    52915\n",
      "1      272\n",
      "Name: diabetes..0.0_y, dtype: int64\n"
     ]
    }
   ],
   "source": [
    "value_counts = test_imputed_df['diabetes..0.0_y'].value_counts()\n",
    "\n",
    "# Display the counts\n",
    "print(value_counts)"
   ]
  },
  {
   "cell_type": "code",
   "execution_count": 28,
   "metadata": {},
   "outputs": [],
   "source": [
    "test_imputed_df.to_csv('test_imputed_df.csv', index= True)"
   ]
  },
  {
   "cell_type": "markdown",
   "metadata": {},
   "source": [
    "Matching"
   ]
  },
  {
   "cell_type": "code",
   "execution_count": 29,
   "metadata": {},
   "outputs": [],
   "source": [
    "import pandas as pd\n",
    "import numpy as np"
   ]
  },
  {
   "cell_type": "code",
   "execution_count": 30,
   "metadata": {},
   "outputs": [],
   "source": [
    "# Load the data into a pandas DataFrame\n",
    "data = pd.read_csv('test_imputed_df.csv')"
   ]
  },
  {
   "cell_type": "code",
   "execution_count": 31,
   "metadata": {},
   "outputs": [
    {
     "name": "stdout",
     "output_type": "stream",
     "text": [
      "       Unnamed: 0.1  income.0.0  days_per_week_walk.0.0  diabetes..0.0_x  \\\n",
      "0                 0           3                       0                0   \n",
      "1                 1           4                       7                0   \n",
      "2                 2           2                       7                0   \n",
      "3                 3           4                       7                0   \n",
      "4                 4           5                       7                0   \n",
      "...             ...         ...                     ...              ...   \n",
      "53182         53182           2                       2                0   \n",
      "53183         53183           1                       6                0   \n",
      "53184         53184           1                       5                0   \n",
      "53185         53185           3                       3                0   \n",
      "53186         53186           2                       7                0   \n",
      "\n",
      "       smoke_status.0.0  bmi.0.0  Age_recr.0.0  total_cholesterol.0.0  \\\n",
      "0                     1       30            62                      4   \n",
      "1                     1       28            65                      4   \n",
      "2                     0       22            51                      4   \n",
      "3                     1       29            47                      5   \n",
      "4                     2       23            54                      5   \n",
      "...                 ...      ...           ...                    ...   \n",
      "53182                 0       32            41                      4   \n",
      "53183                 1       21            62                      4   \n",
      "53184                 1       40            65                      3   \n",
      "53185                 0       24            64                      5   \n",
      "53186                 1       26            61                      5   \n",
      "\n",
      "       vldl_cholesterol.0.0  ldl_cholesterol.0.0  ...  lipoprotein.0.0  \\\n",
      "0                         1                    2  ...               30   \n",
      "1                         1                    1  ...                5   \n",
      "2                         1                    1  ...               14   \n",
      "3                         1                    2  ...              128   \n",
      "4                         1                    2  ...                9   \n",
      "...                     ...                  ...  ...              ...   \n",
      "53182                     1                    2  ...              163   \n",
      "53183                     1                    1  ...               47   \n",
      "53184                     0                    1  ...               43   \n",
      "53185                     1                    2  ...               35   \n",
      "53186                     1                    2  ...               35   \n",
      "\n",
      "       phosphate.0.0  SHBG.0.0  total_bilirubin.0.0  testosterone.0.0  \\\n",
      "0                  1        58                   13                14   \n",
      "1                  1        32                   16                14   \n",
      "2                  1        45                    7                22   \n",
      "3                  1        29                   14                12   \n",
      "4                  1        75                    6                18   \n",
      "...              ...       ...                  ...               ...   \n",
      "53182              1        32                    9                11   \n",
      "53183              1        52                    4                10   \n",
      "53184              1        53                    6                20   \n",
      "53185              1        36                   15                13   \n",
      "53186              1        53                   10                11   \n",
      "\n",
      "       triglycerides.0.0  alcohol_consumption.0.0  Unnamed: 0      eid  \\\n",
      "0                      2                        0           1  1000021   \n",
      "1                      5                        1           2  1000057   \n",
      "2                      1                        0           3  1000082   \n",
      "3                      1                        0           4  1000126   \n",
      "4                      1                        1           5  1000325   \n",
      "...                  ...                      ...         ...      ...   \n",
      "53182                  1                        0       53183  6024672   \n",
      "53183                  1                        1       53184  6024732   \n",
      "53184                  1                        1       53185  6024803   \n",
      "53185                  5                        1       53186  6024842   \n",
      "53186                  2                        1       53187  6024923   \n",
      "\n",
      "       diabetes..0.0_y  \n",
      "0                    0  \n",
      "1                    0  \n",
      "2                    0  \n",
      "3                    0  \n",
      "4                    0  \n",
      "...                ...  \n",
      "53182                0  \n",
      "53183                0  \n",
      "53184                0  \n",
      "53185                0  \n",
      "53186                0  \n",
      "\n",
      "[53187 rows x 25 columns]\n"
     ]
    }
   ],
   "source": [
    "print(data)"
   ]
  },
  {
   "cell_type": "code",
   "execution_count": 32,
   "metadata": {},
   "outputs": [],
   "source": [
    "# Separate the cases and controls\n",
    "cases = data[data['diabetes..0.0_y'] == 1]\n",
    "controls = data[data['diabetes..0.0_y'] == 0]"
   ]
  },
  {
   "cell_type": "code",
   "execution_count": 33,
   "metadata": {},
   "outputs": [],
   "source": [
    "# Define the matching factors\n",
    "matching_factors = ['Age_recr.0.0', 'bmi.0.0']"
   ]
  },
  {
   "cell_type": "code",
   "execution_count": 34,
   "metadata": {},
   "outputs": [],
   "source": [
    "# Initialize an empty DataFrame for the matched controls\n",
    "matched_controls = pd.DataFrame()"
   ]
  },
  {
   "cell_type": "code",
   "execution_count": 35,
   "metadata": {},
   "outputs": [],
   "source": [
    "# Loop through each case and find 1 controls that match on the matching factors\n",
    "for idx, case in cases.iterrows():\n",
    "    # Subset the controls that match on the matching factors\n",
    "    matched = controls[(controls['Age_recr.0.0'] == case['Age_recr.0.0']) & (controls['bmi.0.0'] == case['bmi.0.0'])]\n",
    "    # Sample 1 controls from the matched subset\n",
    "    if len(matched) >= 3:\n",
    "        matched = matched.sample(n=3)\n",
    "    # Append the matched controls to the DataFrame\n",
    "    matched_controls = pd.concat([matched_controls, matched])"
   ]
  },
  {
   "cell_type": "code",
   "execution_count": 36,
   "metadata": {},
   "outputs": [],
   "source": [
    "# Combine the cases and matched controls into a single DataFrame\n",
    "matched_data = pd.concat([cases, matched_controls])"
   ]
  },
  {
   "cell_type": "code",
   "execution_count": 37,
   "metadata": {},
   "outputs": [
    {
     "name": "stdout",
     "output_type": "stream",
     "text": [
      "0    803\n",
      "1    272\n",
      "Name: diabetes..0.0_y, dtype: int64\n"
     ]
    }
   ],
   "source": [
    "value_counts = matched_data['diabetes..0.0_y'].value_counts()\n",
    "\n",
    "# Display the counts\n",
    "print(value_counts)"
   ]
  },
  {
   "cell_type": "code",
   "execution_count": null,
   "metadata": {},
   "outputs": [],
   "source": []
  }
 ],
 "metadata": {
  "kernelspec": {
   "display_name": "Python [conda env:test1]",
   "language": "python",
   "name": "conda-env-test1-py"
  },
  "language_info": {
   "codemirror_mode": {
    "name": "ipython",
    "version": 3
   },
   "file_extension": ".py",
   "mimetype": "text/x-python",
   "name": "python",
   "nbconvert_exporter": "python",
   "pygments_lexer": "ipython3",
   "version": "3.9.16"
  }
 },
 "nbformat": 4,
 "nbformat_minor": 2
}
