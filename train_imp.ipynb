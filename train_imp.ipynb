{
 "cells": [
  {
   "cell_type": "code",
   "execution_count": 1,
   "metadata": {},
   "outputs": [],
   "source": [
    "#Import necessary libraries \n",
    "import pandas as pd\n",
    "from sklearn.impute import KNNImputer\n",
    "import numpy as np"
   ]
  },
  {
   "cell_type": "code",
   "execution_count": 2,
   "metadata": {},
   "outputs": [],
   "source": [
    "# Load dataset into Pandas DataFrame\n",
    "train_df = pd.read_csv('train_df.csv')"
   ]
  },
  {
   "cell_type": "code",
   "execution_count": 3,
   "metadata": {},
   "outputs": [
    {
     "name": "stdout",
     "output_type": "stream",
     "text": [
      "        Unnamed: 0     ...1  income.0.0  days_per_week_walk.0.0  \\\n",
      "0                1  1000016         4.0                       3   \n",
      "1                2  1000049         3.0                       2   \n",
      "2                3  1000167         2.0                       3   \n",
      "3                4  1000178         4.0                       1   \n",
      "4                5  1000189         5.0                       7   \n",
      "...            ...      ...         ...                     ...   \n",
      "159557      159558  6024826         4.0                       5   \n",
      "159558      159559  6024834         3.0                       7   \n",
      "159559      159560  6024878         2.0                       6   \n",
      "159560      159561  6024890         4.0                       3   \n",
      "159561      159562  6024906         2.0                       1   \n",
      "\n",
      "        diabetes..0.0  smoke_status.0.0  bmi.0.0  Age_recr.0.0  \\\n",
      "0                   0                 1  24.9257            49   \n",
      "1                   0                 2  28.6011            41   \n",
      "2                   0                 0  32.9796            70   \n",
      "3                   0                 0      NaN            47   \n",
      "4                   0                 0  25.6310            43   \n",
      "...               ...               ...      ...           ...   \n",
      "159557              0                 0  32.9332            64   \n",
      "159558              0                 1  24.1517            66   \n",
      "159559              0                 1  24.3126            44   \n",
      "159560              0                 0  29.7311            58   \n",
      "159561              0                 1  22.5035            65   \n",
      "\n",
      "        total_cholesterol.0.0  vldl_cholesterol.0.0  ...  \\\n",
      "0                      4.8869               0.75526  ...   \n",
      "1                         NaN                   NaN  ...   \n",
      "2                         NaN                   NaN  ...   \n",
      "3                         NaN                   NaN  ...   \n",
      "4                         NaN                   NaN  ...   \n",
      "...                       ...                   ...  ...   \n",
      "159557                    NaN                   NaN  ...   \n",
      "159558                    NaN                   NaN  ...   \n",
      "159559                 2.8943               0.53359  ...   \n",
      "159560                    NaN                   NaN  ...   \n",
      "159561                    NaN                   NaN  ...   \n",
      "\n",
      "        c_reactive_protein.0.0  HbA1c.0.0  insulin_IGF_1.0.0  lipoprotein.0.0  \\\n",
      "0                         1.38       33.5             19.409              NaN   \n",
      "1                         5.93       33.9             19.058             8.54   \n",
      "2                         3.90       39.7             10.902            34.70   \n",
      "3                          NaN        NaN                NaN              NaN   \n",
      "4                         0.75       28.7             21.762            36.00   \n",
      "...                        ...        ...                ...              ...   \n",
      "159557                    1.18       32.0             19.626              NaN   \n",
      "159558                     NaN       34.2                NaN              NaN   \n",
      "159559                    1.33       32.2             23.777            34.43   \n",
      "159560                    0.92       29.4             13.642           139.40   \n",
      "159561                    6.45       37.4             17.499             4.50   \n",
      "\n",
      "        phosphate.0.0  SHBG.0.0  total_bilirubin.0.0  testosterone.0.0  \\\n",
      "0               1.146     41.90                 7.96            12.237   \n",
      "1               0.881     18.02                 8.43            10.454   \n",
      "2               1.031     66.42                10.76            13.311   \n",
      "3                 NaN       NaN                  NaN               NaN   \n",
      "4               0.987     37.48                29.12            12.320   \n",
      "...               ...       ...                  ...               ...   \n",
      "159557          0.773     37.85                11.02            16.861   \n",
      "159558            NaN       NaN                  NaN               NaN   \n",
      "159559          1.144     32.54                10.85            10.091   \n",
      "159560          1.220     20.61                 8.89             7.114   \n",
      "159561            NaN       NaN                25.23             8.780   \n",
      "\n",
      "        triglycerides.0.0  alcohol_consumption.0.0  \n",
      "0                   1.488                      NaN  \n",
      "1                   3.087                      1.0  \n",
      "2                   1.767                      NaN  \n",
      "3                     NaN                      NaN  \n",
      "4                   0.601                      NaN  \n",
      "...                   ...                      ...  \n",
      "159557              1.133                      NaN  \n",
      "159558                NaN                      NaN  \n",
      "159559              1.056                      NaN  \n",
      "159560              4.072                      NaN  \n",
      "159561              1.310                      NaN  \n",
      "\n",
      "[159562 rows x 23 columns]\n"
     ]
    }
   ],
   "source": [
    "print(train_df)"
   ]
  },
  {
   "cell_type": "code",
   "execution_count": 4,
   "metadata": {},
   "outputs": [],
   "source": [
    "train_df = train_df.rename(columns={'...1': 'eid'})"
   ]
  },
  {
   "cell_type": "code",
   "execution_count": 5,
   "metadata": {},
   "outputs": [
    {
     "name": "stdout",
     "output_type": "stream",
     "text": [
      "        Unnamed: 0      eid  income.0.0  days_per_week_walk.0.0  \\\n",
      "0                1  1000016         4.0                       3   \n",
      "1                2  1000049         3.0                       2   \n",
      "2                3  1000167         2.0                       3   \n",
      "3                4  1000178         4.0                       1   \n",
      "4                5  1000189         5.0                       7   \n",
      "...            ...      ...         ...                     ...   \n",
      "159557      159558  6024826         4.0                       5   \n",
      "159558      159559  6024834         3.0                       7   \n",
      "159559      159560  6024878         2.0                       6   \n",
      "159560      159561  6024890         4.0                       3   \n",
      "159561      159562  6024906         2.0                       1   \n",
      "\n",
      "        diabetes..0.0  smoke_status.0.0  bmi.0.0  Age_recr.0.0  \\\n",
      "0                   0                 1  24.9257            49   \n",
      "1                   0                 2  28.6011            41   \n",
      "2                   0                 0  32.9796            70   \n",
      "3                   0                 0      NaN            47   \n",
      "4                   0                 0  25.6310            43   \n",
      "...               ...               ...      ...           ...   \n",
      "159557              0                 0  32.9332            64   \n",
      "159558              0                 1  24.1517            66   \n",
      "159559              0                 1  24.3126            44   \n",
      "159560              0                 0  29.7311            58   \n",
      "159561              0                 1  22.5035            65   \n",
      "\n",
      "        total_cholesterol.0.0  vldl_cholesterol.0.0  ...  \\\n",
      "0                      4.8869               0.75526  ...   \n",
      "1                         NaN                   NaN  ...   \n",
      "2                         NaN                   NaN  ...   \n",
      "3                         NaN                   NaN  ...   \n",
      "4                         NaN                   NaN  ...   \n",
      "...                       ...                   ...  ...   \n",
      "159557                    NaN                   NaN  ...   \n",
      "159558                    NaN                   NaN  ...   \n",
      "159559                 2.8943               0.53359  ...   \n",
      "159560                    NaN                   NaN  ...   \n",
      "159561                    NaN                   NaN  ...   \n",
      "\n",
      "        c_reactive_protein.0.0  HbA1c.0.0  insulin_IGF_1.0.0  lipoprotein.0.0  \\\n",
      "0                         1.38       33.5             19.409              NaN   \n",
      "1                         5.93       33.9             19.058             8.54   \n",
      "2                         3.90       39.7             10.902            34.70   \n",
      "3                          NaN        NaN                NaN              NaN   \n",
      "4                         0.75       28.7             21.762            36.00   \n",
      "...                        ...        ...                ...              ...   \n",
      "159557                    1.18       32.0             19.626              NaN   \n",
      "159558                     NaN       34.2                NaN              NaN   \n",
      "159559                    1.33       32.2             23.777            34.43   \n",
      "159560                    0.92       29.4             13.642           139.40   \n",
      "159561                    6.45       37.4             17.499             4.50   \n",
      "\n",
      "        phosphate.0.0  SHBG.0.0  total_bilirubin.0.0  testosterone.0.0  \\\n",
      "0               1.146     41.90                 7.96            12.237   \n",
      "1               0.881     18.02                 8.43            10.454   \n",
      "2               1.031     66.42                10.76            13.311   \n",
      "3                 NaN       NaN                  NaN               NaN   \n",
      "4               0.987     37.48                29.12            12.320   \n",
      "...               ...       ...                  ...               ...   \n",
      "159557          0.773     37.85                11.02            16.861   \n",
      "159558            NaN       NaN                  NaN               NaN   \n",
      "159559          1.144     32.54                10.85            10.091   \n",
      "159560          1.220     20.61                 8.89             7.114   \n",
      "159561            NaN       NaN                25.23             8.780   \n",
      "\n",
      "        triglycerides.0.0  alcohol_consumption.0.0  \n",
      "0                   1.488                      NaN  \n",
      "1                   3.087                      1.0  \n",
      "2                   1.767                      NaN  \n",
      "3                     NaN                      NaN  \n",
      "4                   0.601                      NaN  \n",
      "...                   ...                      ...  \n",
      "159557              1.133                      NaN  \n",
      "159558                NaN                      NaN  \n",
      "159559              1.056                      NaN  \n",
      "159560              4.072                      NaN  \n",
      "159561              1.310                      NaN  \n",
      "\n",
      "[159562 rows x 23 columns]\n"
     ]
    }
   ],
   "source": [
    "print(train_df)"
   ]
  },
  {
   "cell_type": "code",
   "execution_count": 6,
   "metadata": {},
   "outputs": [
    {
     "data": {
      "text/plain": [
       "159562"
      ]
     },
     "execution_count": 6,
     "metadata": {},
     "output_type": "execute_result"
    }
   ],
   "source": [
    "# Get the length of the eid column\n",
    "len(train_df['eid'])"
   ]
  },
  {
   "cell_type": "code",
   "execution_count": 7,
   "metadata": {},
   "outputs": [
    {
     "data": {
      "text/plain": [
       "159562"
      ]
     },
     "execution_count": 7,
     "metadata": {},
     "output_type": "execute_result"
    }
   ],
   "source": [
    "# Get the number of unique values in the eid column\n",
    "len(train_df['eid'].unique())"
   ]
  },
  {
   "cell_type": "code",
   "execution_count": 8,
   "metadata": {},
   "outputs": [
    {
     "name": "stdout",
     "output_type": "stream",
     "text": [
      "At least one column has values less than 0\n"
     ]
    }
   ],
   "source": [
    "# Check if any columns have values less than 0\n",
    "if (train_df < 0).any().any():\n",
    "    print('At least one column has values less than 0')\n",
    "else:\n",
    "    print('No columns have values less than 0')"
   ]
  },
  {
   "cell_type": "code",
   "execution_count": 9,
   "metadata": {},
   "outputs": [
    {
     "name": "stdout",
     "output_type": "stream",
     "text": [
      "Columns with negative values: ['income.0.0', 'days_per_week_walk.0.0', 'smoke_status.0.0']\n"
     ]
    }
   ],
   "source": [
    "# Check which columns have values less than 0\n",
    "cols_with_negative_values = train_df.columns[(train_df < 0).any()]\n",
    "\n",
    "# Print the column names\n",
    "print('Columns with negative values:', list(cols_with_negative_values))"
   ]
  },
  {
   "cell_type": "markdown",
   "metadata": {},
   "source": [
    "we are making all the values that are less than 0 to NA in income, days, per_week and smoking status "
   ]
  },
  {
   "cell_type": "code",
   "execution_count": 10,
   "metadata": {},
   "outputs": [
    {
     "name": "stderr",
     "output_type": "stream",
     "text": [
      "/var/tmp/pbs.7385817.pbs/ipykernel_813177/675381167.py:1: SettingWithCopyWarning: \n",
      "A value is trying to be set on a copy of a slice from a DataFrame\n",
      "\n",
      "See the caveats in the documentation: https://pandas.pydata.org/pandas-docs/stable/user_guide/indexing.html#returning-a-view-versus-a-copy\n",
      "  train_df['income.0.0'][train_df['income.0.0'] < 0] = np.nan\n",
      "/var/tmp/pbs.7385817.pbs/ipykernel_813177/675381167.py:2: SettingWithCopyWarning: \n",
      "A value is trying to be set on a copy of a slice from a DataFrame\n",
      "\n",
      "See the caveats in the documentation: https://pandas.pydata.org/pandas-docs/stable/user_guide/indexing.html#returning-a-view-versus-a-copy\n",
      "  train_df['days_per_week_walk.0.0'][train_df['days_per_week_walk.0.0'] < 0] = np.nan\n",
      "/var/tmp/pbs.7385817.pbs/ipykernel_813177/675381167.py:3: SettingWithCopyWarning: \n",
      "A value is trying to be set on a copy of a slice from a DataFrame\n",
      "\n",
      "See the caveats in the documentation: https://pandas.pydata.org/pandas-docs/stable/user_guide/indexing.html#returning-a-view-versus-a-copy\n",
      "  train_df['smoke_status.0.0'][train_df['smoke_status.0.0'] < 0] = np.nan\n"
     ]
    }
   ],
   "source": [
    "train_df['income.0.0'][train_df['income.0.0'] < 0] = np.nan\n",
    "train_df['days_per_week_walk.0.0'][train_df['days_per_week_walk.0.0'] < 0] = np.nan\n",
    "train_df['smoke_status.0.0'][train_df['smoke_status.0.0'] < 0] = np.nan"
   ]
  },
  {
   "cell_type": "code",
   "execution_count": 11,
   "metadata": {},
   "outputs": [
    {
     "name": "stdout",
     "output_type": "stream",
     "text": [
      "Index(['Unnamed: 0', 'eid', 'income.0.0', 'days_per_week_walk.0.0',\n",
      "       'diabetes..0.0', 'smoke_status.0.0', 'bmi.0.0', 'Age_recr.0.0',\n",
      "       'total_cholesterol.0.0', 'vldl_cholesterol.0.0', 'ldl_cholesterol.0.0',\n",
      "       'hdl_cholesterol.0.0', 'glucose.0.0', 'c_reactive_protein.0.0',\n",
      "       'HbA1c.0.0', 'insulin_IGF_1.0.0', 'lipoprotein.0.0', 'phosphate.0.0',\n",
      "       'SHBG.0.0', 'total_bilirubin.0.0', 'testosterone.0.0',\n",
      "       'triglycerides.0.0', 'alcohol_consumption.0.0'],\n",
      "      dtype='object')\n"
     ]
    }
   ],
   "source": [
    "# get all column names\n",
    "col_names = train_df.columns\n",
    "\n",
    "print(col_names)"
   ]
  },
  {
   "cell_type": "code",
   "execution_count": 12,
   "metadata": {},
   "outputs": [],
   "source": [
    "subset_train_df = train_df[[ 'income.0.0', 'days_per_week_walk.0.0',\n",
    "       'diabetes..0.0', 'smoke_status.0.0', 'bmi.0.0', 'Age_recr.0.0',\n",
    "       'total_cholesterol.0.0', 'vldl_cholesterol.0.0', 'ldl_cholesterol.0.0',\n",
    "       'hdl_cholesterol.0.0', 'glucose.0.0', 'c_reactive_protein.0.0',\n",
    "       'HbA1c.0.0', 'insulin_IGF_1.0.0', 'lipoprotein.0.0', 'phosphate.0.0',\n",
    "       'SHBG.0.0', 'total_bilirubin.0.0', 'testosterone.0.0',\n",
    "       'triglycerides.0.0', 'alcohol_consumption.0.0']]"
   ]
  },
  {
   "cell_type": "code",
   "execution_count": 13,
   "metadata": {},
   "outputs": [
    {
     "name": "stdout",
     "output_type": "stream",
     "text": [
      "        income.0.0  days_per_week_walk.0.0  diabetes..0.0  smoke_status.0.0  \\\n",
      "0              4.0                     3.0              0               1.0   \n",
      "1              3.0                     2.0              0               2.0   \n",
      "2              2.0                     3.0              0               0.0   \n",
      "3              4.0                     1.0              0               0.0   \n",
      "4              5.0                     7.0              0               0.0   \n",
      "...            ...                     ...            ...               ...   \n",
      "159557         4.0                     5.0              0               0.0   \n",
      "159558         3.0                     7.0              0               1.0   \n",
      "159559         2.0                     6.0              0               1.0   \n",
      "159560         4.0                     3.0              0               0.0   \n",
      "159561         2.0                     1.0              0               1.0   \n",
      "\n",
      "        bmi.0.0  Age_recr.0.0  total_cholesterol.0.0  vldl_cholesterol.0.0  \\\n",
      "0       24.9257            49                 4.8869               0.75526   \n",
      "1       28.6011            41                    NaN                   NaN   \n",
      "2       32.9796            70                    NaN                   NaN   \n",
      "3           NaN            47                    NaN                   NaN   \n",
      "4       25.6310            43                    NaN                   NaN   \n",
      "...         ...           ...                    ...                   ...   \n",
      "159557  32.9332            64                    NaN                   NaN   \n",
      "159558  24.1517            66                    NaN                   NaN   \n",
      "159559  24.3126            44                 2.8943               0.53359   \n",
      "159560  29.7311            58                    NaN                   NaN   \n",
      "159561  22.5035            65                    NaN                   NaN   \n",
      "\n",
      "        ldl_cholesterol.0.0  hdl_cholesterol.0.0  ...  c_reactive_protein.0.0  \\\n",
      "0                    2.0107              1.19370  ...                    1.38   \n",
      "1                       NaN                  NaN  ...                    5.93   \n",
      "2                       NaN                  NaN  ...                    3.90   \n",
      "3                       NaN                  NaN  ...                     NaN   \n",
      "4                       NaN                  NaN  ...                    0.75   \n",
      "...                     ...                  ...  ...                     ...   \n",
      "159557                  NaN                  NaN  ...                    1.18   \n",
      "159558                  NaN                  NaN  ...                     NaN   \n",
      "159559               1.1421              0.72179  ...                    1.33   \n",
      "159560                  NaN                  NaN  ...                    0.92   \n",
      "159561                  NaN                  NaN  ...                    6.45   \n",
      "\n",
      "        HbA1c.0.0  insulin_IGF_1.0.0  lipoprotein.0.0  phosphate.0.0  \\\n",
      "0            33.5             19.409              NaN          1.146   \n",
      "1            33.9             19.058             8.54          0.881   \n",
      "2            39.7             10.902            34.70          1.031   \n",
      "3             NaN                NaN              NaN            NaN   \n",
      "4            28.7             21.762            36.00          0.987   \n",
      "...           ...                ...              ...            ...   \n",
      "159557       32.0             19.626              NaN          0.773   \n",
      "159558       34.2                NaN              NaN            NaN   \n",
      "159559       32.2             23.777            34.43          1.144   \n",
      "159560       29.4             13.642           139.40          1.220   \n",
      "159561       37.4             17.499             4.50            NaN   \n",
      "\n",
      "        SHBG.0.0  total_bilirubin.0.0  testosterone.0.0  triglycerides.0.0  \\\n",
      "0          41.90                 7.96            12.237              1.488   \n",
      "1          18.02                 8.43            10.454              3.087   \n",
      "2          66.42                10.76            13.311              1.767   \n",
      "3            NaN                  NaN               NaN                NaN   \n",
      "4          37.48                29.12            12.320              0.601   \n",
      "...          ...                  ...               ...                ...   \n",
      "159557     37.85                11.02            16.861              1.133   \n",
      "159558       NaN                  NaN               NaN                NaN   \n",
      "159559     32.54                10.85            10.091              1.056   \n",
      "159560     20.61                 8.89             7.114              4.072   \n",
      "159561       NaN                25.23             8.780              1.310   \n",
      "\n",
      "        alcohol_consumption.0.0  \n",
      "0                           NaN  \n",
      "1                           1.0  \n",
      "2                           NaN  \n",
      "3                           NaN  \n",
      "4                           NaN  \n",
      "...                         ...  \n",
      "159557                      NaN  \n",
      "159558                      NaN  \n",
      "159559                      NaN  \n",
      "159560                      NaN  \n",
      "159561                      NaN  \n",
      "\n",
      "[159562 rows x 21 columns]\n"
     ]
    }
   ],
   "source": [
    "print(subset_train_df)"
   ]
  },
  {
   "cell_type": "code",
   "execution_count": 14,
   "metadata": {},
   "outputs": [],
   "source": [
    "# Initialize KNNImputer object with desired arguments\n",
    "imputer = KNNImputer(n_neighbors=5)\n",
    "\n",
    "# Impute missing values\n",
    "imputed_data = imputer.fit_transform(subset_train_df)"
   ]
  },
  {
   "cell_type": "code",
   "execution_count": 15,
   "metadata": {},
   "outputs": [],
   "source": [
    "imputed_df = pd.DataFrame(imputed_data, columns=subset_train_df.columns)"
   ]
  },
  {
   "cell_type": "code",
   "execution_count": 17,
   "metadata": {},
   "outputs": [
    {
     "name": "stdout",
     "output_type": "stream",
     "text": [
      "        income.0.0  days_per_week_walk.0.0  diabetes..0.0  smoke_status.0.0  \\\n",
      "0              4.0                     3.0            0.0               1.0   \n",
      "1              3.0                     2.0            0.0               2.0   \n",
      "2              2.0                     3.0            0.0               0.0   \n",
      "3              4.0                     1.0            0.0               0.0   \n",
      "4              5.0                     7.0            0.0               0.0   \n",
      "...            ...                     ...            ...               ...   \n",
      "159557         4.0                     5.0            0.0               0.0   \n",
      "159558         3.0                     7.0            0.0               1.0   \n",
      "159559         2.0                     6.0            0.0               1.0   \n",
      "159560         4.0                     3.0            0.0               0.0   \n",
      "159561         2.0                     1.0            0.0               1.0   \n",
      "\n",
      "         bmi.0.0  Age_recr.0.0  total_cholesterol.0.0  vldl_cholesterol.0.0  \\\n",
      "0       24.92570          49.0                4.88690              0.755260   \n",
      "1       28.60110          41.0                4.04482              0.691756   \n",
      "2       32.97960          70.0                4.41184              0.823474   \n",
      "3       25.26928          47.0                4.17730              0.717680   \n",
      "4       25.63100          43.0                4.23130              0.599422   \n",
      "...          ...           ...                    ...                   ...   \n",
      "159557  32.93320          64.0                4.41792              0.867050   \n",
      "159558  24.15170          66.0                4.68860              0.692458   \n",
      "159559  24.31260          44.0                2.89430              0.533590   \n",
      "159560  29.73110          58.0                4.71640              0.823456   \n",
      "159561  22.50350          65.0                4.61408              0.674832   \n",
      "\n",
      "        ldl_cholesterol.0.0  hdl_cholesterol.0.0  ...  c_reactive_protein.0.0  \\\n",
      "0                  2.010700             1.193700  ...                   1.380   \n",
      "1                  1.499218             1.152816  ...                   5.930   \n",
      "2                  1.842086             0.960054  ...                   3.900   \n",
      "3                  1.630120             1.084106  ...                   0.630   \n",
      "4                  1.524780             1.375480  ...                   0.750   \n",
      "...                     ...                  ...  ...                     ...   \n",
      "159557             1.753000             1.025970  ...                   1.180   \n",
      "159558             1.743020             1.416420  ...                   0.704   \n",
      "159559             1.142100             0.721790  ...                   1.330   \n",
      "159560             1.866480             1.142378  ...                   0.920   \n",
      "159561             1.847760             1.190790  ...                   6.450   \n",
      "\n",
      "        HbA1c.0.0  insulin_IGF_1.0.0  lipoprotein.0.0  phosphate.0.0  \\\n",
      "0           33.50            19.4090           31.674         1.1460   \n",
      "1           33.90            19.0580            8.540         0.8810   \n",
      "2           39.70            10.9020           34.700         1.0310   \n",
      "3           33.42            24.0702           65.982         1.2852   \n",
      "4           28.70            21.7620           36.000         0.9870   \n",
      "...           ...                ...              ...            ...   \n",
      "159557      32.00            19.6260           44.574         0.7730   \n",
      "159558      34.20            20.5166           54.758         1.1634   \n",
      "159559      32.20            23.7770           34.430         1.1440   \n",
      "159560      29.40            13.6420          139.400         1.2200   \n",
      "159561      37.40            17.4990            4.500         1.0546   \n",
      "\n",
      "        SHBG.0.0  total_bilirubin.0.0  testosterone.0.0  triglycerides.0.0  \\\n",
      "0         41.900                7.960           12.2370             1.4880   \n",
      "1         18.020                8.430           10.4540             3.0870   \n",
      "2         66.420               10.760           13.3110             1.7670   \n",
      "3         46.086               11.056           12.9870             1.5074   \n",
      "4         37.480               29.120           12.3200             0.6010   \n",
      "...          ...                  ...               ...                ...   \n",
      "159557    37.850               11.020           16.8610             1.1330   \n",
      "159558    41.138               14.600           15.4584             1.6294   \n",
      "159559    32.540               10.850           10.0910             1.0560   \n",
      "159560    20.610                8.890            7.1140             4.0720   \n",
      "159561    49.876               25.230            8.7800             1.3100   \n",
      "\n",
      "        alcohol_consumption.0.0  \n",
      "0                           0.4  \n",
      "1                           1.0  \n",
      "2                           0.4  \n",
      "3                           0.4  \n",
      "4                           0.8  \n",
      "...                         ...  \n",
      "159557                      0.4  \n",
      "159558                      0.8  \n",
      "159559                      0.8  \n",
      "159560                      0.6  \n",
      "159561                      0.4  \n",
      "\n",
      "[159562 rows x 21 columns]\n"
     ]
    }
   ],
   "source": [
    "print(imputed_df)"
   ]
  },
  {
   "cell_type": "code",
   "execution_count": 18,
   "metadata": {},
   "outputs": [
    {
     "name": "stdout",
     "output_type": "stream",
     "text": [
      "income.0.0                 0\n",
      "days_per_week_walk.0.0     0\n",
      "diabetes..0.0              0\n",
      "smoke_status.0.0           0\n",
      "bmi.0.0                    0\n",
      "Age_recr.0.0               0\n",
      "total_cholesterol.0.0      0\n",
      "vldl_cholesterol.0.0       0\n",
      "ldl_cholesterol.0.0        0\n",
      "hdl_cholesterol.0.0        0\n",
      "glucose.0.0                0\n",
      "c_reactive_protein.0.0     0\n",
      "HbA1c.0.0                  0\n",
      "insulin_IGF_1.0.0          0\n",
      "lipoprotein.0.0            0\n",
      "phosphate.0.0              0\n",
      "SHBG.0.0                   0\n",
      "total_bilirubin.0.0        0\n",
      "testosterone.0.0           0\n",
      "triglycerides.0.0          0\n",
      "alcohol_consumption.0.0    0\n",
      "dtype: int64\n"
     ]
    }
   ],
   "source": [
    "# Check for missing values in imputed_df\n",
    "print(imputed_df.isna().sum())"
   ]
  },
  {
   "cell_type": "code",
   "execution_count": 19,
   "metadata": {},
   "outputs": [],
   "source": [
    "imputed_df.to_csv('imputed_data.csv', index= True)"
   ]
  },
  {
   "cell_type": "code",
   "execution_count": 20,
   "metadata": {},
   "outputs": [
    {
     "data": {
      "text/plain": [
       "(159562, 23)"
      ]
     },
     "execution_count": 20,
     "metadata": {},
     "output_type": "execute_result"
    }
   ],
   "source": [
    "train_df.shape"
   ]
  },
  {
   "cell_type": "code",
   "execution_count": 21,
   "metadata": {},
   "outputs": [
    {
     "data": {
      "text/plain": [
       "(159562, 21)"
      ]
     },
     "execution_count": 21,
     "metadata": {},
     "output_type": "execute_result"
    }
   ],
   "source": [
    "imputed_df.shape"
   ]
  },
  {
   "cell_type": "code",
   "execution_count": 22,
   "metadata": {},
   "outputs": [
    {
     "name": "stdout",
     "output_type": "stream",
     "text": [
      "        income.0.0  days_per_week_walk.0.0  diabetes..0.0  smoke_status.0.0  \\\n",
      "0              4.0                     3.0            0.0               1.0   \n",
      "1              3.0                     2.0            0.0               2.0   \n",
      "2              2.0                     3.0            0.0               0.0   \n",
      "3              4.0                     1.0            0.0               0.0   \n",
      "4              5.0                     7.0            0.0               0.0   \n",
      "...            ...                     ...            ...               ...   \n",
      "159557         4.0                     5.0            0.0               0.0   \n",
      "159558         3.0                     7.0            0.0               1.0   \n",
      "159559         2.0                     6.0            0.0               1.0   \n",
      "159560         4.0                     3.0            0.0               0.0   \n",
      "159561         2.0                     1.0            0.0               1.0   \n",
      "\n",
      "         bmi.0.0  Age_recr.0.0  total_cholesterol.0.0  vldl_cholesterol.0.0  \\\n",
      "0       24.92570          49.0                4.88690              0.755260   \n",
      "1       28.60110          41.0                4.04482              0.691756   \n",
      "2       32.97960          70.0                4.41184              0.823474   \n",
      "3       25.26928          47.0                4.17730              0.717680   \n",
      "4       25.63100          43.0                4.23130              0.599422   \n",
      "...          ...           ...                    ...                   ...   \n",
      "159557  32.93320          64.0                4.41792              0.867050   \n",
      "159558  24.15170          66.0                4.68860              0.692458   \n",
      "159559  24.31260          44.0                2.89430              0.533590   \n",
      "159560  29.73110          58.0                4.71640              0.823456   \n",
      "159561  22.50350          65.0                4.61408              0.674832   \n",
      "\n",
      "        ldl_cholesterol.0.0  hdl_cholesterol.0.0  ...  c_reactive_protein.0.0  \\\n",
      "0                  2.010700             1.193700  ...                   1.380   \n",
      "1                  1.499218             1.152816  ...                   5.930   \n",
      "2                  1.842086             0.960054  ...                   3.900   \n",
      "3                  1.630120             1.084106  ...                   0.630   \n",
      "4                  1.524780             1.375480  ...                   0.750   \n",
      "...                     ...                  ...  ...                     ...   \n",
      "159557             1.753000             1.025970  ...                   1.180   \n",
      "159558             1.743020             1.416420  ...                   0.704   \n",
      "159559             1.142100             0.721790  ...                   1.330   \n",
      "159560             1.866480             1.142378  ...                   0.920   \n",
      "159561             1.847760             1.190790  ...                   6.450   \n",
      "\n",
      "        HbA1c.0.0  insulin_IGF_1.0.0  lipoprotein.0.0  phosphate.0.0  \\\n",
      "0           33.50            19.4090           31.674         1.1460   \n",
      "1           33.90            19.0580            8.540         0.8810   \n",
      "2           39.70            10.9020           34.700         1.0310   \n",
      "3           33.42            24.0702           65.982         1.2852   \n",
      "4           28.70            21.7620           36.000         0.9870   \n",
      "...           ...                ...              ...            ...   \n",
      "159557      32.00            19.6260           44.574         0.7730   \n",
      "159558      34.20            20.5166           54.758         1.1634   \n",
      "159559      32.20            23.7770           34.430         1.1440   \n",
      "159560      29.40            13.6420          139.400         1.2200   \n",
      "159561      37.40            17.4990            4.500         1.0546   \n",
      "\n",
      "        SHBG.0.0  total_bilirubin.0.0  testosterone.0.0  triglycerides.0.0  \\\n",
      "0         41.900                7.960           12.2370             1.4880   \n",
      "1         18.020                8.430           10.4540             3.0870   \n",
      "2         66.420               10.760           13.3110             1.7670   \n",
      "3         46.086               11.056           12.9870             1.5074   \n",
      "4         37.480               29.120           12.3200             0.6010   \n",
      "...          ...                  ...               ...                ...   \n",
      "159557    37.850               11.020           16.8610             1.1330   \n",
      "159558    41.138               14.600           15.4584             1.6294   \n",
      "159559    32.540               10.850           10.0910             1.0560   \n",
      "159560    20.610                8.890            7.1140             4.0720   \n",
      "159561    49.876               25.230            8.7800             1.3100   \n",
      "\n",
      "        alcohol_consumption.0.0  \n",
      "0                           0.4  \n",
      "1                           1.0  \n",
      "2                           0.4  \n",
      "3                           0.4  \n",
      "4                           0.8  \n",
      "...                         ...  \n",
      "159557                      0.4  \n",
      "159558                      0.8  \n",
      "159559                      0.8  \n",
      "159560                      0.6  \n",
      "159561                      0.4  \n",
      "\n",
      "[159562 rows x 21 columns]\n"
     ]
    }
   ],
   "source": [
    "print(imputed_df)"
   ]
  },
  {
   "cell_type": "code",
   "execution_count": 23,
   "metadata": {},
   "outputs": [
    {
     "name": "stdout",
     "output_type": "stream",
     "text": [
      "        Unnamed: 0      eid  income.0.0  days_per_week_walk.0.0  \\\n",
      "0                1  1000016         4.0                     3.0   \n",
      "1                2  1000049         3.0                     2.0   \n",
      "2                3  1000167         2.0                     3.0   \n",
      "3                4  1000178         4.0                     1.0   \n",
      "4                5  1000189         5.0                     7.0   \n",
      "...            ...      ...         ...                     ...   \n",
      "159557      159558  6024826         4.0                     5.0   \n",
      "159558      159559  6024834         3.0                     7.0   \n",
      "159559      159560  6024878         2.0                     6.0   \n",
      "159560      159561  6024890         4.0                     3.0   \n",
      "159561      159562  6024906         2.0                     1.0   \n",
      "\n",
      "        diabetes..0.0  smoke_status.0.0  bmi.0.0  Age_recr.0.0  \\\n",
      "0                   0               1.0  24.9257            49   \n",
      "1                   0               2.0  28.6011            41   \n",
      "2                   0               0.0  32.9796            70   \n",
      "3                   0               0.0      NaN            47   \n",
      "4                   0               0.0  25.6310            43   \n",
      "...               ...               ...      ...           ...   \n",
      "159557              0               0.0  32.9332            64   \n",
      "159558              0               1.0  24.1517            66   \n",
      "159559              0               1.0  24.3126            44   \n",
      "159560              0               0.0  29.7311            58   \n",
      "159561              0               1.0  22.5035            65   \n",
      "\n",
      "        total_cholesterol.0.0  vldl_cholesterol.0.0  ...  \\\n",
      "0                      4.8869               0.75526  ...   \n",
      "1                         NaN                   NaN  ...   \n",
      "2                         NaN                   NaN  ...   \n",
      "3                         NaN                   NaN  ...   \n",
      "4                         NaN                   NaN  ...   \n",
      "...                       ...                   ...  ...   \n",
      "159557                    NaN                   NaN  ...   \n",
      "159558                    NaN                   NaN  ...   \n",
      "159559                 2.8943               0.53359  ...   \n",
      "159560                    NaN                   NaN  ...   \n",
      "159561                    NaN                   NaN  ...   \n",
      "\n",
      "        c_reactive_protein.0.0  HbA1c.0.0  insulin_IGF_1.0.0  lipoprotein.0.0  \\\n",
      "0                         1.38       33.5             19.409              NaN   \n",
      "1                         5.93       33.9             19.058             8.54   \n",
      "2                         3.90       39.7             10.902            34.70   \n",
      "3                          NaN        NaN                NaN              NaN   \n",
      "4                         0.75       28.7             21.762            36.00   \n",
      "...                        ...        ...                ...              ...   \n",
      "159557                    1.18       32.0             19.626              NaN   \n",
      "159558                     NaN       34.2                NaN              NaN   \n",
      "159559                    1.33       32.2             23.777            34.43   \n",
      "159560                    0.92       29.4             13.642           139.40   \n",
      "159561                    6.45       37.4             17.499             4.50   \n",
      "\n",
      "        phosphate.0.0  SHBG.0.0  total_bilirubin.0.0  testosterone.0.0  \\\n",
      "0               1.146     41.90                 7.96            12.237   \n",
      "1               0.881     18.02                 8.43            10.454   \n",
      "2               1.031     66.42                10.76            13.311   \n",
      "3                 NaN       NaN                  NaN               NaN   \n",
      "4               0.987     37.48                29.12            12.320   \n",
      "...               ...       ...                  ...               ...   \n",
      "159557          0.773     37.85                11.02            16.861   \n",
      "159558            NaN       NaN                  NaN               NaN   \n",
      "159559          1.144     32.54                10.85            10.091   \n",
      "159560          1.220     20.61                 8.89             7.114   \n",
      "159561            NaN       NaN                25.23             8.780   \n",
      "\n",
      "        triglycerides.0.0  alcohol_consumption.0.0  \n",
      "0                   1.488                      NaN  \n",
      "1                   3.087                      1.0  \n",
      "2                   1.767                      NaN  \n",
      "3                     NaN                      NaN  \n",
      "4                   0.601                      NaN  \n",
      "...                   ...                      ...  \n",
      "159557              1.133                      NaN  \n",
      "159558                NaN                      NaN  \n",
      "159559              1.056                      NaN  \n",
      "159560              4.072                      NaN  \n",
      "159561              1.310                      NaN  \n",
      "\n",
      "[159562 rows x 23 columns]\n"
     ]
    }
   ],
   "source": [
    "print(train_df)"
   ]
  },
  {
   "cell_type": "code",
   "execution_count": 24,
   "metadata": {},
   "outputs": [],
   "source": [
    "# Create a new column 'Unnamed: 0' with a sequence of integers starting from 1\n",
    "imputed_df['Unnamed: 0'] = range(1, len(imputed_df) + 1)"
   ]
  },
  {
   "cell_type": "code",
   "execution_count": 25,
   "metadata": {},
   "outputs": [],
   "source": [
    "for_merge_train_df = train_df[['Unnamed: 0', 'eid', 'diabetes..0.0']]"
   ]
  },
  {
   "cell_type": "code",
   "execution_count": 26,
   "metadata": {},
   "outputs": [],
   "source": [
    "train_imputed_df = pd.merge(imputed_df, for_merge_train_df, on='Unnamed: 0', how='inner')"
   ]
  },
  {
   "cell_type": "code",
   "execution_count": 27,
   "metadata": {},
   "outputs": [
    {
     "name": "stdout",
     "output_type": "stream",
     "text": [
      "        income.0.0  days_per_week_walk.0.0  diabetes..0.0_x  smoke_status.0.0  \\\n",
      "0              4.0                     3.0              0.0               1.0   \n",
      "1              3.0                     2.0              0.0               2.0   \n",
      "2              2.0                     3.0              0.0               0.0   \n",
      "3              4.0                     1.0              0.0               0.0   \n",
      "4              5.0                     7.0              0.0               0.0   \n",
      "...            ...                     ...              ...               ...   \n",
      "159557         4.0                     5.0              0.0               0.0   \n",
      "159558         3.0                     7.0              0.0               1.0   \n",
      "159559         2.0                     6.0              0.0               1.0   \n",
      "159560         4.0                     3.0              0.0               0.0   \n",
      "159561         2.0                     1.0              0.0               1.0   \n",
      "\n",
      "         bmi.0.0  Age_recr.0.0  total_cholesterol.0.0  vldl_cholesterol.0.0  \\\n",
      "0       24.92570          49.0                4.88690              0.755260   \n",
      "1       28.60110          41.0                4.04482              0.691756   \n",
      "2       32.97960          70.0                4.41184              0.823474   \n",
      "3       25.26928          47.0                4.17730              0.717680   \n",
      "4       25.63100          43.0                4.23130              0.599422   \n",
      "...          ...           ...                    ...                   ...   \n",
      "159557  32.93320          64.0                4.41792              0.867050   \n",
      "159558  24.15170          66.0                4.68860              0.692458   \n",
      "159559  24.31260          44.0                2.89430              0.533590   \n",
      "159560  29.73110          58.0                4.71640              0.823456   \n",
      "159561  22.50350          65.0                4.61408              0.674832   \n",
      "\n",
      "        ldl_cholesterol.0.0  hdl_cholesterol.0.0  ...  lipoprotein.0.0  \\\n",
      "0                  2.010700             1.193700  ...           31.674   \n",
      "1                  1.499218             1.152816  ...            8.540   \n",
      "2                  1.842086             0.960054  ...           34.700   \n",
      "3                  1.630120             1.084106  ...           65.982   \n",
      "4                  1.524780             1.375480  ...           36.000   \n",
      "...                     ...                  ...  ...              ...   \n",
      "159557             1.753000             1.025970  ...           44.574   \n",
      "159558             1.743020             1.416420  ...           54.758   \n",
      "159559             1.142100             0.721790  ...           34.430   \n",
      "159560             1.866480             1.142378  ...          139.400   \n",
      "159561             1.847760             1.190790  ...            4.500   \n",
      "\n",
      "        phosphate.0.0  SHBG.0.0  total_bilirubin.0.0  testosterone.0.0  \\\n",
      "0              1.1460    41.900                7.960           12.2370   \n",
      "1              0.8810    18.020                8.430           10.4540   \n",
      "2              1.0310    66.420               10.760           13.3110   \n",
      "3              1.2852    46.086               11.056           12.9870   \n",
      "4              0.9870    37.480               29.120           12.3200   \n",
      "...               ...       ...                  ...               ...   \n",
      "159557         0.7730    37.850               11.020           16.8610   \n",
      "159558         1.1634    41.138               14.600           15.4584   \n",
      "159559         1.1440    32.540               10.850           10.0910   \n",
      "159560         1.2200    20.610                8.890            7.1140   \n",
      "159561         1.0546    49.876               25.230            8.7800   \n",
      "\n",
      "        triglycerides.0.0  alcohol_consumption.0.0  Unnamed: 0      eid  \\\n",
      "0                  1.4880                      0.4           1  1000016   \n",
      "1                  3.0870                      1.0           2  1000049   \n",
      "2                  1.7670                      0.4           3  1000167   \n",
      "3                  1.5074                      0.4           4  1000178   \n",
      "4                  0.6010                      0.8           5  1000189   \n",
      "...                   ...                      ...         ...      ...   \n",
      "159557             1.1330                      0.4      159558  6024826   \n",
      "159558             1.6294                      0.8      159559  6024834   \n",
      "159559             1.0560                      0.8      159560  6024878   \n",
      "159560             4.0720                      0.6      159561  6024890   \n",
      "159561             1.3100                      0.4      159562  6024906   \n",
      "\n",
      "        diabetes..0.0_y  \n",
      "0                     0  \n",
      "1                     0  \n",
      "2                     0  \n",
      "3                     0  \n",
      "4                     0  \n",
      "...                 ...  \n",
      "159557                0  \n",
      "159558                0  \n",
      "159559                0  \n",
      "159560                0  \n",
      "159561                0  \n",
      "\n",
      "[159562 rows x 24 columns]\n"
     ]
    }
   ],
   "source": [
    "print(train_imputed_df)"
   ]
  },
  {
   "cell_type": "code",
   "execution_count": 28,
   "metadata": {},
   "outputs": [
    {
     "name": "stdout",
     "output_type": "stream",
     "text": [
      "        income.0.0  days_per_week_walk.0.0  diabetes..0.0_x  smoke_status.0.0  \\\n",
      "0                4                       3                0                 1   \n",
      "1                3                       2                0                 2   \n",
      "2                2                       3                0                 0   \n",
      "3                4                       1                0                 0   \n",
      "4                5                       7                0                 0   \n",
      "...            ...                     ...              ...               ...   \n",
      "159557           4                       5                0                 0   \n",
      "159558           3                       7                0                 1   \n",
      "159559           2                       6                0                 1   \n",
      "159560           4                       3                0                 0   \n",
      "159561           2                       1                0                 1   \n",
      "\n",
      "        bmi.0.0  Age_recr.0.0  total_cholesterol.0.0  vldl_cholesterol.0.0  \\\n",
      "0            25            49                      5                     1   \n",
      "1            29            41                      4                     1   \n",
      "2            33            70                      4                     1   \n",
      "3            25            47                      4                     1   \n",
      "4            26            43                      4                     1   \n",
      "...         ...           ...                    ...                   ...   \n",
      "159557       33            64                      4                     1   \n",
      "159558       24            66                      5                     1   \n",
      "159559       24            44                      3                     1   \n",
      "159560       30            58                      5                     1   \n",
      "159561       23            65                      5                     1   \n",
      "\n",
      "        ldl_cholesterol.0.0  hdl_cholesterol.0.0  ...  lipoprotein.0.0  \\\n",
      "0                         2                    1  ...               32   \n",
      "1                         1                    1  ...                9   \n",
      "2                         2                    1  ...               35   \n",
      "3                         2                    1  ...               66   \n",
      "4                         2                    1  ...               36   \n",
      "...                     ...                  ...  ...              ...   \n",
      "159557                    2                    1  ...               45   \n",
      "159558                    2                    1  ...               55   \n",
      "159559                    1                    1  ...               34   \n",
      "159560                    2                    1  ...              139   \n",
      "159561                    2                    1  ...                4   \n",
      "\n",
      "        phosphate.0.0  SHBG.0.0  total_bilirubin.0.0  testosterone.0.0  \\\n",
      "0                   1        42                    8                12   \n",
      "1                   1        18                    8                10   \n",
      "2                   1        66                   11                13   \n",
      "3                   1        46                   11                13   \n",
      "4                   1        37                   29                12   \n",
      "...               ...       ...                  ...               ...   \n",
      "159557              1        38                   11                17   \n",
      "159558              1        41                   15                15   \n",
      "159559              1        33                   11                10   \n",
      "159560              1        21                    9                 7   \n",
      "159561              1        50                   25                 9   \n",
      "\n",
      "        triglycerides.0.0  alcohol_consumption.0.0  Unnamed: 0      eid  \\\n",
      "0                       1                        0           1  1000016   \n",
      "1                       3                        1           2  1000049   \n",
      "2                       2                        0           3  1000167   \n",
      "3                       2                        0           4  1000178   \n",
      "4                       1                        1           5  1000189   \n",
      "...                   ...                      ...         ...      ...   \n",
      "159557                  1                        0      159558  6024826   \n",
      "159558                  2                        1      159559  6024834   \n",
      "159559                  1                        1      159560  6024878   \n",
      "159560                  4                        1      159561  6024890   \n",
      "159561                  1                        0      159562  6024906   \n",
      "\n",
      "        diabetes..0.0_y  \n",
      "0                     0  \n",
      "1                     0  \n",
      "2                     0  \n",
      "3                     0  \n",
      "4                     0  \n",
      "...                 ...  \n",
      "159557                0  \n",
      "159558                0  \n",
      "159559                0  \n",
      "159560                0  \n",
      "159561                0  \n",
      "\n",
      "[159562 rows x 24 columns]\n"
     ]
    }
   ],
   "source": [
    "train_imputed_df = train_imputed_df.round(decimals=0).astype(int)\n",
    "\n",
    "# Display the updated DataFrame\n",
    "print(train_imputed_df)"
   ]
  },
  {
   "cell_type": "code",
   "execution_count": 29,
   "metadata": {},
   "outputs": [
    {
     "name": "stdout",
     "output_type": "stream",
     "text": [
      "0    158755\n",
      "1       807\n",
      "Name: diabetes..0.0_y, dtype: int64\n"
     ]
    }
   ],
   "source": [
    "value_counts = train_imputed_df['diabetes..0.0_y'].value_counts()\n",
    "\n",
    "# Display the counts\n",
    "print(value_counts)"
   ]
  },
  {
   "cell_type": "code",
   "execution_count": 30,
   "metadata": {},
   "outputs": [],
   "source": [
    "train_imputed_df.to_csv('train_imputed_df.csv', index= True)"
   ]
  },
  {
   "cell_type": "markdown",
   "metadata": {},
   "source": []
  },
  {
   "cell_type": "markdown",
   "metadata": {},
   "source": []
  },
  {
   "cell_type": "markdown",
   "metadata": {},
   "source": [
    "matching "
   ]
  },
  {
   "cell_type": "code",
   "execution_count": 31,
   "metadata": {},
   "outputs": [],
   "source": [
    "import pandas as pd\n",
    "import numpy as np"
   ]
  },
  {
   "cell_type": "code",
   "execution_count": 32,
   "metadata": {},
   "outputs": [],
   "source": [
    "# Load the data into a pandas DataFrame\n",
    "data = pd.read_csv('train_imputed_df.csv')"
   ]
  },
  {
   "cell_type": "code",
   "execution_count": 33,
   "metadata": {},
   "outputs": [
    {
     "name": "stdout",
     "output_type": "stream",
     "text": [
      "        Unnamed: 0.1  income.0.0  days_per_week_walk.0.0  diabetes..0.0_x  \\\n",
      "0                  0           4                       3                0   \n",
      "1                  1           3                       2                0   \n",
      "2                  2           2                       3                0   \n",
      "3                  3           4                       1                0   \n",
      "4                  4           5                       7                0   \n",
      "...              ...         ...                     ...              ...   \n",
      "159557        159557           4                       5                0   \n",
      "159558        159558           3                       7                0   \n",
      "159559        159559           2                       6                0   \n",
      "159560        159560           4                       3                0   \n",
      "159561        159561           2                       1                0   \n",
      "\n",
      "        smoke_status.0.0  bmi.0.0  Age_recr.0.0  total_cholesterol.0.0  \\\n",
      "0                      1       25            49                      5   \n",
      "1                      2       29            41                      4   \n",
      "2                      0       33            70                      4   \n",
      "3                      0       25            47                      4   \n",
      "4                      0       26            43                      4   \n",
      "...                  ...      ...           ...                    ...   \n",
      "159557                 0       33            64                      4   \n",
      "159558                 1       24            66                      5   \n",
      "159559                 1       24            44                      3   \n",
      "159560                 0       30            58                      5   \n",
      "159561                 1       23            65                      5   \n",
      "\n",
      "        vldl_cholesterol.0.0  ldl_cholesterol.0.0  ...  lipoprotein.0.0  \\\n",
      "0                          1                    2  ...               32   \n",
      "1                          1                    1  ...                9   \n",
      "2                          1                    2  ...               35   \n",
      "3                          1                    2  ...               66   \n",
      "4                          1                    2  ...               36   \n",
      "...                      ...                  ...  ...              ...   \n",
      "159557                     1                    2  ...               45   \n",
      "159558                     1                    2  ...               55   \n",
      "159559                     1                    1  ...               34   \n",
      "159560                     1                    2  ...              139   \n",
      "159561                     1                    2  ...                4   \n",
      "\n",
      "        phosphate.0.0  SHBG.0.0  total_bilirubin.0.0  testosterone.0.0  \\\n",
      "0                   1        42                    8                12   \n",
      "1                   1        18                    8                10   \n",
      "2                   1        66                   11                13   \n",
      "3                   1        46                   11                13   \n",
      "4                   1        37                   29                12   \n",
      "...               ...       ...                  ...               ...   \n",
      "159557              1        38                   11                17   \n",
      "159558              1        41                   15                15   \n",
      "159559              1        33                   11                10   \n",
      "159560              1        21                    9                 7   \n",
      "159561              1        50                   25                 9   \n",
      "\n",
      "        triglycerides.0.0  alcohol_consumption.0.0  Unnamed: 0      eid  \\\n",
      "0                       1                        0           1  1000016   \n",
      "1                       3                        1           2  1000049   \n",
      "2                       2                        0           3  1000167   \n",
      "3                       2                        0           4  1000178   \n",
      "4                       1                        1           5  1000189   \n",
      "...                   ...                      ...         ...      ...   \n",
      "159557                  1                        0      159558  6024826   \n",
      "159558                  2                        1      159559  6024834   \n",
      "159559                  1                        1      159560  6024878   \n",
      "159560                  4                        1      159561  6024890   \n",
      "159561                  1                        0      159562  6024906   \n",
      "\n",
      "        diabetes..0.0_y  \n",
      "0                     0  \n",
      "1                     0  \n",
      "2                     0  \n",
      "3                     0  \n",
      "4                     0  \n",
      "...                 ...  \n",
      "159557                0  \n",
      "159558                0  \n",
      "159559                0  \n",
      "159560                0  \n",
      "159561                0  \n",
      "\n",
      "[159562 rows x 25 columns]\n"
     ]
    }
   ],
   "source": [
    "print(data)"
   ]
  },
  {
   "cell_type": "code",
   "execution_count": 34,
   "metadata": {},
   "outputs": [],
   "source": [
    "# Separate the cases and controls\n",
    "cases = data[data['diabetes..0.0_y'] == 1]\n",
    "controls = data[data['diabetes..0.0_y'] == 0]"
   ]
  },
  {
   "cell_type": "code",
   "execution_count": 35,
   "metadata": {},
   "outputs": [],
   "source": [
    "# Define the matching factors\n",
    "matching_factors = ['Age_recr.0.0', 'bmi.0.0']"
   ]
  },
  {
   "cell_type": "code",
   "execution_count": 36,
   "metadata": {},
   "outputs": [],
   "source": [
    "# Initialize an empty DataFrame for the matched controls\n",
    "matched_controls = pd.DataFrame()"
   ]
  },
  {
   "cell_type": "code",
   "execution_count": 37,
   "metadata": {},
   "outputs": [],
   "source": [
    "# Loop through each case and find 1 controls that match on the matching factors\n",
    "for idx, case in cases.iterrows():\n",
    "    # Subset the controls that match on the matching factors\n",
    "    matched = controls[(controls['Age_recr.0.0'] == case['Age_recr.0.0']) & (controls['bmi.0.0'] == case['bmi.0.0'])]\n",
    "    # Sample 1 controls from the matched subset\n",
    "    if len(matched) >= 3:\n",
    "        matched = matched.sample(n=3)\n",
    "    # Append the matched controls to the DataFrame\n",
    "    matched_controls = pd.concat([matched_controls, matched])"
   ]
  },
  {
   "cell_type": "code",
   "execution_count": 38,
   "metadata": {},
   "outputs": [],
   "source": [
    "# Combine the cases and matched controls into a single DataFrame\n",
    "matched_data = pd.concat([cases, matched_controls])"
   ]
  },
  {
   "cell_type": "code",
   "execution_count": 39,
   "metadata": {},
   "outputs": [
    {
     "name": "stdout",
     "output_type": "stream",
     "text": [
      "0    2393\n",
      "1     807\n",
      "Name: diabetes..0.0_y, dtype: int64\n"
     ]
    }
   ],
   "source": [
    "value_counts = matched_data['diabetes..0.0_y'].value_counts()\n",
    "\n",
    "# Display the counts\n",
    "print(value_counts)"
   ]
  },
  {
   "cell_type": "code",
   "execution_count": 40,
   "metadata": {},
   "outputs": [],
   "source": [
    "matched_data.to_csv('matched_train_imputed_df.csv', index= True)"
   ]
  },
  {
   "cell_type": "code",
   "execution_count": null,
   "metadata": {},
   "outputs": [],
   "source": []
  }
 ],
 "metadata": {
  "kernelspec": {
   "display_name": "Python [conda env:test1]",
   "language": "python",
   "name": "conda-env-test1-py"
  },
  "language_info": {
   "codemirror_mode": {
    "name": "ipython",
    "version": 3
   },
   "file_extension": ".py",
   "mimetype": "text/x-python",
   "name": "python",
   "nbconvert_exporter": "python",
   "pygments_lexer": "ipython3",
   "version": "3.9.16"
  }
 },
 "nbformat": 4,
 "nbformat_minor": 2
}
